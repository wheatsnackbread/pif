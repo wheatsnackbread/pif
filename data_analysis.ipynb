{
 "cells": [
  {
   "cell_type": "markdown",
   "metadata": {},
   "source": [
    "#### Import dependencies"
   ]
  },
  {
   "cell_type": "code",
   "execution_count": 2,
   "metadata": {},
   "outputs": [
    {
     "name": "stdout",
     "output_type": "stream",
     "text": [
      "                Timestamp Are you familiar with the term \"food insecurity?\"  \\\n",
      "0 2024-02-12 18:24:02.319                             Yes I know what it is   \n",
      "1 2024-02-12 18:27:11.287                             Yes I know what it is   \n",
      "2 2024-02-12 18:27:40.573                             Yes I know what it is   \n",
      "3 2024-02-12 18:50:48.053                                I have heard of it   \n",
      "4 2024-02-12 19:25:54.339                             Yes I know what it is   \n",
      "\n",
      "  ***NON-FIRST YEARS: Approximately how much $ were you left with in your top up meal plan account at the end of first year?  \\\n",
      "0                                                NaN                                                                           \n",
      "1                                                NaN                                                                           \n",
      "2                                       $200 - $1000                                                                           \n",
      "3                                               <$50                                                                           \n",
      "4                                       $200 - $1000                                                                           \n",
      "\n",
      "  ***NON-FIRST YEARS: If you have any money left over in your top up account, approximately how much do you think you have?  \\\n",
      "0                                                NaN                                                                          \n",
      "1                                                NaN                                                                          \n",
      "2                                                NaN                                                                          \n",
      "3                                      Less than $10                                                                          \n",
      "4                                      Less than $10                                                                          \n",
      "\n",
      "  ***FIRST YEARS: Approximately how much $ are you left with in your top up meal plan account right now  \\\n",
      "0                                                NaN                                                      \n",
      "1                                                NaN                                                      \n",
      "2                                                NaN                                                      \n",
      "3                                                NaN                                                      \n",
      "4                                                NaN                                                      \n",
      "\n",
      "  If given the option to donate the remaining $ to your food insecure peers at Western, how much would you donate?  \\\n",
      "0      100% - Drain the account and donate all of it                                                                 \n",
      "1                       20% - 50% of remaining funds                                                                 \n",
      "2                              5% of remaining funds                                                                 \n",
      "3                                                  0                                                                 \n",
      "4                              5% of remaining funds                                                                 \n",
      "\n",
      "  ***FACULTY/STAFF: Approximately how much $ are you left with in your top up meal plan account right now  \n",
      "0                                                NaN                                                       \n",
      "1                                                NaN                                                       \n",
      "2                                                NaN                                                       \n",
      "3                                                NaN                                                       \n",
      "4                                                NaN                                                       \n"
     ]
    }
   ],
   "source": [
    "import pandas as pd\n",
    "\n",
    "# Specify the path to the Excel file\n",
    "excel_file_path = \"Pay It Forward Data Inquiry (Responses).xlsx\"\n",
    "\n",
    "# Read the Excel file into a pandas dataframe\n",
    "df = pd.read_excel(excel_file_path)\n",
    "\n",
    "# Now you can perform data analysis on the dataframe\n",
    "print(df.head())\n"
   ]
  },
  {
   "cell_type": "markdown",
   "metadata": {},
   "source": [
    "#### Calculate average donation amount per student\n"
   ]
  },
  {
   "cell_type": "code",
   "execution_count": null,
   "metadata": {},
   "outputs": [],
   "source": []
  }
 ],
 "metadata": {
  "kernelspec": {
   "display_name": "Python 3",
   "language": "python",
   "name": "python3"
  },
  "language_info": {
   "codemirror_mode": {
    "name": "ipython",
    "version": 3
   },
   "file_extension": ".py",
   "mimetype": "text/x-python",
   "name": "python",
   "nbconvert_exporter": "python",
   "pygments_lexer": "ipython3",
   "version": "3.10.12"
  }
 },
 "nbformat": 4,
 "nbformat_minor": 2
}
